{
 "cells": [
  {
   "cell_type": "markdown",
   "id": "ea030d18-cb84-456e-bd21-8d131ef1a710",
   "metadata": {},
   "source": [
    "## Analisis cercania Fenilalanina 153\n",
    "\n",
    "un codigo que haga un diccionario donde salga la distancia en angstrom de todos los modelos generados, no solo los del cluster mayor donde salga la distancia desde la F153 al ligando \n"
   ]
  },
  {
   "cell_type": "code",
   "execution_count": 74,
   "id": "ef96dbdb-53d2-4027-87d0-da7ea36af0a9",
   "metadata": {},
   "outputs": [
    {
     "data": {
      "text/plain": [
       "'../models/boltz_results_MBII-withaferin_A/predictions/MBII-withaferin_A/MBII-withaferin_A_model_*.pdb'"
      ]
     },
     "execution_count": 74,
     "metadata": {},
     "output_type": "execute_result"
    }
   ],
   "source": [
    "######### INPUT DATA ###########\n",
    "'''\n",
    "#PLI\n",
    "MBII-ethoxysanguinarine\n",
    "MBIII-ethoxysanguinarine\n",
    "MBIIyIII-ethoxysanguinarine\n",
    "\n",
    "MBII-withaferin_A\n",
    "MBIII-withaferin_A\n",
    "MBIIyIII-withaferin_A\n",
    "\n",
    "#PPI\n",
    "P01106-Q9BZ95_MBII_200\n",
    "P01106-Q9BZ95_MBIII_200\n",
    "P01106-Q9BZ95_MBIIyIII_200\n",
    "'''\n",
    "state = 'MBII-withaferin_A' # modificar al usar\n",
    "relative_path = f'../models/boltz_results_{state}/predictions/{state}/{state}_model_*.pdb'\n",
    "data_path = f'../data/{state}/'\n",
    "relative_path"
   ]
  },
  {
   "cell_type": "code",
   "execution_count": 75,
   "id": "5b00828d-4aa9-4721-b32d-4f6c65f62eca",
   "metadata": {},
   "outputs": [
    {
     "data": {
      "text/plain": [
       "<mdtraj.Trajectory with 200 frames, 770 atoms, 101 residues, without unitcells at 0x7b32becc0a50>"
      ]
     },
     "execution_count": 75,
     "metadata": {},
     "output_type": "execute_result"
    }
   ],
   "source": [
    "import mdtraj as md\n",
    "import glob\n",
    "import numpy as np\n",
    "\n",
    "pdb_files = sorted(glob.glob(relative_path))\n",
    "\n",
    "# Cargar como trayectoria\n",
    "traj = md.load(pdb_files, top=pdb_files[0])\n",
    "\n",
    "# Superposición al primer modelo (para comparación RMSD)\n",
    "traj.superpose(traj[0])"
   ]
  },
  {
   "cell_type": "code",
   "execution_count": 76,
   "id": "47683ed4-d476-41c5-9695-1b51f87b3998",
   "metadata": {},
   "outputs": [
    {
     "name": "stdout",
     "output_type": "stream",
     "text": [
      "Sequence of the trajectory:\n",
      "ASP-ASN-ASP-GLY-GLY-GLY-GLY-SER-PHE-SER-THR-ALA-ASP-GLN-LEU-GLU-MET-VAL-THR-GLU-LEU-LEU-GLY-GLY-ASP-MET-VAL-ASN-GLN-SER-PHE-ILE-CYS-ASP-PRO-ASP-ASP-GLU-THR-PHE-ILE-LYS-ASN-ILE-ILE-ILE-GLN-ASP-CYS-MET-TRP-SER-GLY-PHE-SER-ALA-ALA-ALA-LYS-LEU-VAL-SER-GLU-LYS-LEU-ALA-SER-TYR-GLN-ALA-ALA-ARG-LYS-ASP-SER-GLY-SER-PRO-ASN-PRO-ALA-ARG-GLY-HIS-SER-VAL-CYS-SER-THR-SER-SER-LEU-TYR-LEU-GLN-ASP-LEU-SER-ALA-ALA-LIG\n"
     ]
    }
   ],
   "source": [
    "import mdtraj as md\n",
    "# Access the topology object\n",
    "topology = traj.topology\n",
    "\n",
    "# Extract and print the sequence\n",
    "sequence = []\n",
    "for residue in topology.residues:\n",
    "    sequence.append(residue.name)\n",
    "\n",
    "# Join the residue names to form a sequence string\n",
    "sequence_string = \"-\".join(sequence)\n",
    "\n",
    "print(\"Sequence of the trajectory:\")\n",
    "print(sequence_string)"
   ]
  },
  {
   "cell_type": "code",
   "execution_count": 77,
   "id": "93cd457f-18e0-477d-b07f-1c4f649556a8",
   "metadata": {},
   "outputs": [],
   "source": [
    "sequence = [3, 7, 2, 9, 5]\n",
    "max_val = max(sequence)              # 9\n",
    "max_index = sequence.index(max_val)  # 3\n"
   ]
  },
  {
   "cell_type": "code",
   "execution_count": 78,
   "id": "fad97824-bfd3-4a21-8a56-02ff9339a3b8",
   "metadata": {},
   "outputs": [],
   "source": [
    "#Fenilalanina 53"
   ]
  },
  {
   "cell_type": "code",
   "execution_count": 79,
   "id": "8e537a25-275c-4a75-938c-8f38bf1f5d4e",
   "metadata": {
    "scrolled": true
   },
   "outputs": [
    {
     "name": "stdout",
     "output_type": "stream",
     "text": [
      "Index: 0, resSeq: 1, name: ASP, chain index: 0\n",
      "Index: 1, resSeq: 2, name: ASN, chain index: 0\n",
      "Index: 2, resSeq: 3, name: ASP, chain index: 0\n",
      "Index: 3, resSeq: 4, name: GLY, chain index: 0\n",
      "Index: 4, resSeq: 5, name: GLY, chain index: 0\n",
      "Index: 5, resSeq: 6, name: GLY, chain index: 0\n",
      "Index: 6, resSeq: 7, name: GLY, chain index: 0\n",
      "Index: 7, resSeq: 8, name: SER, chain index: 0\n",
      "Index: 8, resSeq: 9, name: PHE, chain index: 0\n",
      "Index: 9, resSeq: 10, name: SER, chain index: 0\n",
      "Index: 10, resSeq: 11, name: THR, chain index: 0\n",
      "Index: 11, resSeq: 12, name: ALA, chain index: 0\n",
      "Index: 12, resSeq: 13, name: ASP, chain index: 0\n",
      "Index: 13, resSeq: 14, name: GLN, chain index: 0\n",
      "Index: 14, resSeq: 15, name: LEU, chain index: 0\n",
      "Index: 15, resSeq: 16, name: GLU, chain index: 0\n",
      "Index: 16, resSeq: 17, name: MET, chain index: 0\n",
      "Index: 17, resSeq: 18, name: VAL, chain index: 0\n",
      "Index: 18, resSeq: 19, name: THR, chain index: 0\n",
      "Index: 19, resSeq: 20, name: GLU, chain index: 0\n",
      "Index: 20, resSeq: 21, name: LEU, chain index: 0\n",
      "Index: 21, resSeq: 22, name: LEU, chain index: 0\n",
      "Index: 22, resSeq: 23, name: GLY, chain index: 0\n",
      "Index: 23, resSeq: 24, name: GLY, chain index: 0\n",
      "Index: 24, resSeq: 25, name: ASP, chain index: 0\n",
      "Index: 25, resSeq: 26, name: MET, chain index: 0\n",
      "Index: 26, resSeq: 27, name: VAL, chain index: 0\n",
      "Index: 27, resSeq: 28, name: ASN, chain index: 0\n",
      "Index: 28, resSeq: 29, name: GLN, chain index: 0\n",
      "Index: 29, resSeq: 30, name: SER, chain index: 0\n",
      "Index: 30, resSeq: 31, name: PHE, chain index: 0\n",
      "Index: 31, resSeq: 32, name: ILE, chain index: 0\n",
      "Index: 32, resSeq: 33, name: CYS, chain index: 0\n",
      "Index: 33, resSeq: 34, name: ASP, chain index: 0\n",
      "Index: 34, resSeq: 35, name: PRO, chain index: 0\n",
      "Index: 35, resSeq: 36, name: ASP, chain index: 0\n",
      "Index: 36, resSeq: 37, name: ASP, chain index: 0\n",
      "Index: 37, resSeq: 38, name: GLU, chain index: 0\n",
      "Index: 38, resSeq: 39, name: THR, chain index: 0\n",
      "Index: 39, resSeq: 40, name: PHE, chain index: 0\n",
      "Index: 40, resSeq: 41, name: ILE, chain index: 0\n",
      "Index: 41, resSeq: 42, name: LYS, chain index: 0\n",
      "Index: 42, resSeq: 43, name: ASN, chain index: 0\n",
      "Index: 43, resSeq: 44, name: ILE, chain index: 0\n",
      "Index: 44, resSeq: 45, name: ILE, chain index: 0\n",
      "Index: 45, resSeq: 46, name: ILE, chain index: 0\n",
      "Index: 46, resSeq: 47, name: GLN, chain index: 0\n",
      "Index: 47, resSeq: 48, name: ASP, chain index: 0\n",
      "Index: 48, resSeq: 49, name: CYS, chain index: 0\n",
      "Index: 49, resSeq: 50, name: MET, chain index: 0\n",
      "Index: 50, resSeq: 51, name: TRP, chain index: 0\n",
      "Index: 51, resSeq: 52, name: SER, chain index: 0\n",
      "Index: 52, resSeq: 53, name: GLY, chain index: 0\n",
      "Index: 53, resSeq: 54, name: PHE, chain index: 0\n",
      "Index: 54, resSeq: 55, name: SER, chain index: 0\n",
      "Index: 55, resSeq: 56, name: ALA, chain index: 0\n",
      "Index: 56, resSeq: 57, name: ALA, chain index: 0\n",
      "Index: 57, resSeq: 58, name: ALA, chain index: 0\n",
      "Index: 58, resSeq: 59, name: LYS, chain index: 0\n",
      "Index: 59, resSeq: 60, name: LEU, chain index: 0\n",
      "Index: 60, resSeq: 61, name: VAL, chain index: 0\n",
      "Index: 61, resSeq: 62, name: SER, chain index: 0\n",
      "Index: 62, resSeq: 63, name: GLU, chain index: 0\n",
      "Index: 63, resSeq: 64, name: LYS, chain index: 0\n",
      "Index: 64, resSeq: 65, name: LEU, chain index: 0\n",
      "Index: 65, resSeq: 66, name: ALA, chain index: 0\n",
      "Index: 66, resSeq: 67, name: SER, chain index: 0\n",
      "Index: 67, resSeq: 68, name: TYR, chain index: 0\n",
      "Index: 68, resSeq: 69, name: GLN, chain index: 0\n",
      "Index: 69, resSeq: 70, name: ALA, chain index: 0\n",
      "Index: 70, resSeq: 71, name: ALA, chain index: 0\n",
      "Index: 71, resSeq: 72, name: ARG, chain index: 0\n",
      "Index: 72, resSeq: 73, name: LYS, chain index: 0\n",
      "Index: 73, resSeq: 74, name: ASP, chain index: 0\n",
      "Index: 74, resSeq: 75, name: SER, chain index: 0\n",
      "Index: 75, resSeq: 76, name: GLY, chain index: 0\n",
      "Index: 76, resSeq: 77, name: SER, chain index: 0\n",
      "Index: 77, resSeq: 78, name: PRO, chain index: 0\n",
      "Index: 78, resSeq: 79, name: ASN, chain index: 0\n",
      "Index: 79, resSeq: 80, name: PRO, chain index: 0\n",
      "Index: 80, resSeq: 81, name: ALA, chain index: 0\n",
      "Index: 81, resSeq: 82, name: ARG, chain index: 0\n",
      "Index: 82, resSeq: 83, name: GLY, chain index: 0\n",
      "Index: 83, resSeq: 84, name: HIS, chain index: 0\n",
      "Index: 84, resSeq: 85, name: SER, chain index: 0\n",
      "Index: 85, resSeq: 86, name: VAL, chain index: 0\n",
      "Index: 86, resSeq: 87, name: CYS, chain index: 0\n",
      "Index: 87, resSeq: 88, name: SER, chain index: 0\n",
      "Index: 88, resSeq: 89, name: THR, chain index: 0\n",
      "Index: 89, resSeq: 90, name: SER, chain index: 0\n",
      "Index: 90, resSeq: 91, name: SER, chain index: 0\n",
      "Index: 91, resSeq: 92, name: LEU, chain index: 0\n",
      "Index: 92, resSeq: 93, name: TYR, chain index: 0\n",
      "Index: 93, resSeq: 94, name: LEU, chain index: 0\n",
      "Index: 94, resSeq: 95, name: GLN, chain index: 0\n",
      "Index: 95, resSeq: 96, name: ASP, chain index: 0\n",
      "Index: 96, resSeq: 97, name: LEU, chain index: 0\n",
      "Index: 97, resSeq: 98, name: SER, chain index: 0\n",
      "Index: 98, resSeq: 99, name: ALA, chain index: 0\n",
      "Index: 99, resSeq: 100, name: ALA, chain index: 0\n",
      "Index: 100, resSeq: 1, name: LIG, chain index: 1\n"
     ]
    }
   ],
   "source": [
    "for i, res in enumerate(topology.residues):\n",
    "    print(f\"Index: {i}, resSeq: {res.resSeq}, name: {res.name}, chain index: {res.chain.index}\")"
   ]
  },
  {
   "cell_type": "code",
   "execution_count": 80,
   "id": "f5c4b5c7-fe31-4a77-8ead-14514a449582",
   "metadata": {},
   "outputs": [
    {
     "name": "stdout",
     "output_type": "stream",
     "text": [
      "Atoms in residue 53 (PHE 54): [397, 398, 399, 400, 401, 402, 403, 404, 405, 406, 407]\n",
      "Atoms in residue 100 (LIG 1): [736, 737, 738, 739, 740, 741, 742, 743, 744, 745, 746, 747, 748, 749, 750, 751, 752, 753, 754, 755, 756, 757, 758, 759, 760, 761, 762, 763, 764, 765, 766, 767, 768, 769]\n"
     ]
    }
   ],
   "source": [
    "# Get residue objects by index\n",
    "res53 = topology.residue(53)\n",
    "lig = topology.residue(100)\n",
    "\n",
    "# Get atom indices for each residue\n",
    "atoms_res53 = [atom.index for atom in res53.atoms]\n",
    "atoms_lig = [atom.index for atom in lig.atoms]\n",
    "\n",
    "print(f\"Atoms in residue 53 ({res53.name} {res53.resSeq}):\", atoms_res53)\n",
    "print(f\"Atoms in residue 100 ({lig.name} {lig.resSeq}):\", atoms_lig)\n"
   ]
  },
  {
   "cell_type": "code",
   "execution_count": 82,
   "id": "e25c437a-4d60-4f0d-90f2-948da7421031",
   "metadata": {
    "scrolled": true
   },
   "outputs": [
    {
     "name": "stdout",
     "output_type": "stream",
     "text": [
      "Residue 53 atoms:\n",
      "N (index 397)\n",
      "CA (index 398)\n",
      "C (index 399)\n",
      "O (index 400)\n",
      "CB (index 401)\n",
      "CG (index 402)\n",
      "CD1 (index 403)\n",
      "CD2 (index 404)\n",
      "CE1 (index 405)\n",
      "CE2 (index 406)\n",
      "CZ (index 407)\n",
      "\n",
      "ligand:\n",
      "C51 (index 736)\n",
      "C49 (index 737)\n",
      "C48 (index 738)\n",
      "C52 (index 739)\n",
      "O41 (index 740)\n",
      "C45 (index 741)\n",
      "O39 (index 742)\n",
      "O43 (index 743)\n",
      "C71 (index 744)\n",
      "C65 (index 745)\n",
      "C55 (index 746)\n",
      "C66 (index 747)\n",
      "C56 (index 748)\n",
      "C54 (index 749)\n",
      "C64 (index 750)\n",
      "C62 (index 751)\n",
      "C61 (index 752)\n",
      "C72 (index 753)\n",
      "O44 (index 754)\n",
      "C69 (index 755)\n",
      "C70 (index 756)\n",
      "O42 (index 757)\n",
      "C50 (index 758)\n",
      "C47 (index 759)\n",
      "C46 (index 760)\n",
      "O40 (index 761)\n",
      "C67 (index 762)\n",
      "C57 (index 763)\n",
      "C63 (index 764)\n",
      "C53 (index 765)\n",
      "C59 (index 766)\n",
      "C68 (index 767)\n",
      "C58 (index 768)\n",
      "C60 (index 769)\n"
     ]
    }
   ],
   "source": [
    "# Check atoms in residue 53\n",
    "print(\"Residue 53 atoms:\")\n",
    "for atom in topology.residue(53).atoms:\n",
    "    print(f\"{atom.name} (index {atom.index})\")\n",
    "\n",
    "# Check atoms in residue 100\n",
    "print(\"\\nligand:\")\n",
    "for atom in topology.residue(100).atoms:\n",
    "    print(f\"{atom.name} (index {atom.index})\")\n"
   ]
  },
  {
   "cell_type": "code",
   "execution_count": 83,
   "id": "8c315fdb-b2a6-4caa-b037-6547e41f4bb1",
   "metadata": {},
   "outputs": [
    {
     "name": "stdout",
     "output_type": "stream",
     "text": [
      "Distance (Å) between PHE 53 CA and residue 100 centroid for each frame:\n",
      "[ 7.439087  15.2208805 10.429126  17.24783    8.887502  10.957085\n",
      " 16.195875   6.644332   7.825617  10.333269   9.708662   7.936072\n",
      "  7.7500486 14.582396  11.620712  10.374747  12.782231   7.9147124\n",
      " 10.343723  13.883776   8.46692   13.183112  14.938039   9.37616\n",
      "  9.151128  10.444977  14.091016   8.5470915  7.7392955 10.306559\n",
      " 10.398287  14.169235  10.664481  12.252694   9.632395   7.9068255\n",
      "  9.187572   8.908254  11.865665  13.487407  10.611668  10.175926\n",
      "  7.817505  10.097448  10.132426  11.709288   8.968829  13.762291\n",
      "  9.538928  11.003303   6.303017   7.775199  11.008232  11.615501\n",
      " 13.991426  12.390775   8.817052   7.9115505 10.398692  10.612363\n",
      " 18.22747   13.145661   9.917914   9.833299   9.956943   8.730784\n",
      " 14.027241  10.938939   9.661583   9.932173   7.2938004 14.825425\n",
      " 16.90386   24.306072  12.450782   9.58427   11.299539  10.174059\n",
      " 11.702146   6.367734  14.272675  10.218114  10.140444  14.038028\n",
      " 14.122488  14.267242   7.5735645 14.068357   8.02122   18.48858\n",
      "  7.872358  14.341942   8.792228  13.857624   7.667113  16.667768\n",
      "  7.0541043 18.02665   11.742102  14.365388  18.867437   9.049765\n",
      " 20.403812  12.881792  13.095303  13.143721   9.886899  19.09081\n",
      " 12.228521  16.469357  15.800046  15.437338  10.0096    12.989016\n",
      " 11.330375   8.830098  20.173264   9.354944   9.800641  12.961746\n",
      " 13.016347   7.7335744  7.352677   6.3470325  8.118423   9.451959\n",
      "  8.46764   11.646164  20.331875  12.780267  19.205418  14.213156\n",
      "  8.662626   7.7446394  8.870372   8.76584    8.074679  17.290379\n",
      "  8.930256   9.770885   9.989197  10.04509    8.330541   8.174623\n",
      " 13.785621  11.153073  11.635543   9.728083  11.063491   7.8701186\n",
      "  9.073834  13.421637  11.119332  10.104923   6.883833   9.846401\n",
      " 10.656027   8.955254   9.849251   7.0817566  8.960054  12.637892\n",
      " 10.230713  11.705534   7.219898   9.115806   7.7170696  7.1813602\n",
      " 14.922261   9.851534  10.083619   7.470265   8.789185   9.12906\n",
      " 12.367444   7.0994864  8.211702   6.8779364  8.191081   8.753955\n",
      " 11.184097   9.321023   6.6618767 13.868838  13.027624   7.9862156\n",
      "  7.2604585 11.534267   8.795434  10.359572   9.53232   14.917755\n",
      " 11.059457  16.170053  16.131262  14.765773  11.805328  11.854765\n",
      " 10.734595  17.355263 ]\n"
     ]
    }
   ],
   "source": [
    "import numpy as np\n",
    "\n",
    "# Get the CA atom index of residue 53\n",
    "res53_CA = [atom.index for atom in topology.residue(53).atoms if atom.name == 'CA'][0]\n",
    "\n",
    "# Get all atom indices of residue 100 (ligand)\n",
    "res100_atoms = [atom.index for atom in topology.residue(100).atoms]\n",
    "\n",
    "# Compute distances for each frame\n",
    "distances = []\n",
    "for frame in traj.xyz:\n",
    "    ca_coord = frame[res53_CA]              # shape: (3,)\n",
    "    ligand_coords = frame[res100_atoms]     # shape: (N_atoms, 3)\n",
    "    ligand_centroid = ligand_coords.mean(axis=0)\n",
    "    \n",
    "    # Euclidean distance\n",
    "    dist = np.linalg.norm(ca_coord - ligand_centroid)\n",
    "    distances.append(dist)\n",
    "\n",
    "# Convert to Ångströms\n",
    "distances_angstrom = np.array(distances) * 10\n",
    "\n",
    "# Print or plot\n",
    "print(\"Distance (Å) between PHE 53 CA and residue 100 centroid for each frame:\")\n",
    "print(distances_angstrom)\n"
   ]
  },
  {
   "cell_type": "code",
   "execution_count": 84,
   "id": "b5cd4f60-a00d-4016-b301-ff0e1ab4c3f6",
   "metadata": {},
   "outputs": [
    {
     "data": {
      "image/png": "[encoded data removed]",
      "text/plain": [
       "<Figure size 640x480 with 1 Axes>"
      ]
     },
     "metadata": {},
     "output_type": "display_data"
    }
   ],
   "source": [
    "import matplotlib.pyplot as plt\n",
    "\n",
    "plt.plot(distances_angstrom)\n",
    "plt.xlabel(\"Frame\")\n",
    "plt.ylabel(\"Distance (Å)\")\n",
    "plt.title(\"Distance between PHE 53 (CA) and Residue 100 (Centroid)\")\n",
    "plt.grid(True)\n",
    "plt.savefig(f'{data_path}/distrance_to_centroid_{state}.png', bbox_inches='tight', dpi=300)\n",
    "plt.show()\n"
   ]
  },
  {
   "cell_type": "code",
   "execution_count": 85,
   "id": "c970285a-40f1-4344-a8d0-747e760fca31",
   "metadata": {},
   "outputs": [
    {
     "name": "stdout",
     "output_type": "stream",
     "text": [
      "Minimum distance (Å) between PHE 53 CA and any atom in residue 100:\n",
      "[ 5.4654226  8.496548   7.220935  12.016809   6.9244757  9.217541\n",
      " 14.077243   4.2263756  5.8523517  8.058923   6.882577   6.2789392\n",
      "  7.3515344 10.785076   5.3498034  8.488872   8.097469   6.799049\n",
      "  8.040132   7.5076175  5.1946545  6.314638  10.203099   7.7995687\n",
      "  6.737488   7.8053284 11.431421   5.952068   5.232411   8.499487\n",
      "  5.979349  11.945757   7.575521   6.8820024  5.7134624  5.3226376\n",
      "  7.2123795  5.825479   8.158978   7.860202   8.757628   4.56413\n",
      "  4.815703   6.4497514  7.611308   8.974058   7.2629266 11.366743\n",
      "  6.2683415  4.56657    5.096114   4.73157    5.9529595  4.747263\n",
      "  8.829052   6.861871   6.4985237  5.761401   7.9224496  6.0910845\n",
      " 12.4940405  7.712252   6.615791   7.720628   7.129569   6.5128393\n",
      "  8.002802   9.16638    4.1878953  6.4630036  5.255981   6.43357\n",
      "  9.861736  19.299969   8.980603   4.346803   9.5914755  6.3281302\n",
      "  7.436639   5.399713  10.961983   7.3906736  6.4083433  7.5833173\n",
      "  6.8186455 12.406181   5.8978024  8.652452   6.230447  17.22031\n",
      "  5.5841107 11.374973   6.4110208 12.126732   5.885492  11.535778\n",
      "  5.786135  15.50434    6.1326637  7.849117  13.675266   7.7197657\n",
      " 18.427834   9.103116  11.495732   9.613863   8.053916  12.314416\n",
      "  8.30735   12.049222  13.046756  11.190614   7.8663325  7.730506\n",
      "  8.464653   5.4057975 12.710518   4.890075   6.4632607  5.728454\n",
      "  7.228331   5.732465   5.400955   4.242554   5.634682   5.3548336\n",
      "  6.2851863  6.515408  18.009623   5.573578  12.670347  12.783564\n",
      "  6.2681427  5.309181   7.29683    5.4650455  6.3934307 12.903937\n",
      "  7.388456   7.7349205  5.5829134  5.4381495  6.450656   6.064169\n",
      " 10.677556   6.731773   8.324254   7.4154067  8.778919   4.6839385\n",
      "  3.4461045 10.472537   8.975905   7.8373117  4.840438   4.7048697\n",
      "  7.948813   5.4344473  7.986601   6.279626   4.823682   5.049139\n",
      "  7.349644   4.5723524  5.2742424  6.9418106  5.6133895  5.814678\n",
      " 11.19301    7.3617945  8.307163   5.4684305  5.574388   5.911187\n",
      "  7.654638   5.590272   4.1251793  3.7300725  6.1160192  6.3894124\n",
      "  6.358776   5.797285   5.3974133  8.81564   11.148003   5.262624\n",
      "  5.567195   8.048874   7.073173   7.199147   5.920411  11.846397\n",
      "  8.892442  12.354432  11.296595   8.929897   7.397599   8.338774\n",
      "  5.4525256 11.969656 ]\n"
     ]
    }
   ],
   "source": [
    "import numpy as np\n",
    "\n",
    "# Get CA atom index of PHE 53\n",
    "res53_CA = [atom.index for atom in topology.residue(53).atoms if atom.name == 'CA'][0]\n",
    "\n",
    "# Get all atom indices of residue 100\n",
    "res100_atoms = [atom.index for atom in topology.residue(100).atoms]\n",
    "\n",
    "# Store minimum distances per frame\n",
    "min_distances = []\n",
    "\n",
    "for frame in traj.xyz:\n",
    "    ca_coord = frame[res53_CA]              # shape: (3,)\n",
    "    ligand_coords = frame[res100_atoms]     # shape: (N_atoms, 3)\n",
    "\n",
    "    # Compute all distances between CA and ligand atoms\n",
    "    distances = np.linalg.norm(ligand_coords - ca_coord, axis=1)\n",
    "\n",
    "    # Minimum distance\n",
    "    min_distances.append(np.min(distances))\n",
    "\n",
    "# Convert to Ångströms\n",
    "min_distances_angstrom = np.array(min_distances) * 10\n",
    "\n",
    "# Print or plot\n",
    "print(\"Minimum distance (Å) between PHE 53 CA and any atom in residue 100:\")\n",
    "print(min_distances_angstrom)\n"
   ]
  },
  {
   "cell_type": "code",
   "execution_count": null,
   "id": "fc010b16-467a-4637-94bd-9398c1078dd3",
   "metadata": {},
   "outputs": [],
   "source": [
    "# Define bins and labels\n",
    "bins = [0, 5, 10, 15, 20, np.inf]\n",
    "labels = ['<5', '6-10', '11-15', '16-20', '>20']\n",
    "\n",
    "# Categorize distances into bins\n",
    "categories = np.digitize(min_distances_angstrom, bins) - 1\n",
    "counts = [np.sum(categories == i) for i in range(len(labels))]\n",
    "\n",
    "# Plotting\n",
    "plt.figure(figsize=(8, 5))\n",
    "plt.bar(labels, counts, color='skyblue', edgecolor='black')\n",
    "plt.title('Distribution of Distances between PHE 53 CA and Residue 100 Atoms')\n",
    "plt.xlabel('Distance Range (Å)')\n",
    "plt.ylabel('Count')\n",
    "plt.grid(axis='y', linestyle='--', alpha=0.7)\n",
    "plt.tight_layout()\n",
    "plt.show()"
   ]
  },
  {
   "cell_type": "code",
   "execution_count": null,
   "id": "8b1c9b0d-ad87-4b27-ade4-4a7745b10cbd",
   "metadata": {},
   "outputs": [],
   "source": []
  },
  {
   "cell_type": "code",
   "execution_count": null,
   "id": "04c0e44b-dd3f-473c-bcf9-38a20c0c347c",
   "metadata": {},
   "outputs": [],
   "source": []
  },
  {
   "cell_type": "code",
   "execution_count": null,
   "id": "2e27f897-7b0d-4275-9097-7f84b527e86f",
   "metadata": {},
   "outputs": [],
   "source": []
  }
 ],
 "metadata": {
  "kernelspec": {
   "display_name": "Python 3 (ipykernel)",
   "language": "python",
   "name": "python3"
  },
  "language_info": {
   "codemirror_mode": {
    "name": "ipython",
    "version": 3
   },
   "file_extension": ".py",
   "mimetype": "text/x-python",
   "name": "python",
   "nbconvert_exporter": "python",
   "pygments_lexer": "ipython3",
   "version": "3.11.8"
  }
 },
 "nbformat": 4,
 "nbformat_minor": 5
}
