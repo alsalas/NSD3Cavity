{
 "cells": [
  {
   "cell_type": "code",
   "execution_count": 26,
   "id": "e5458172-7612-4e59-ae4f-63f24f819c7c",
   "metadata": {},
   "outputs": [
    {
     "name": "stdout",
     "output_type": "stream",
     "text": [
      "sp|P01106|MYC_HUMAN\n",
      "Secuencia de UniProt (P01106):\n",
      "MDFFRVVENQQPPATMPLNVSFTNRNYDLDYDSVQPYFYCDEEENFYQQQQQSELQPPAPSEDIWKKFELLPTPPLSPSRRSGLCSPSYVAVTPFSLRGDNDGGGGSFSTADQLEMVTELLGGDMVNQSFICDPDDETFIKNIIIQDCMWSGFSAAAKLVSEKLASYQAARKDSGSPNPARGHSVCSTSSLYLQDLSAAASECIDPSVVFPYPLNDSSSPKSCASQDSSAFSPSSDSLLSSTESSPQGSPEPLVLHEETPPTTSSDSEEEQEDEEEIDVVSVEKRQAPGKRSESGSPSAGGHSKPPHSPLVLKRCHVSTHQHNYAAPPSTRKDYPAAKRVKLDSVRVLRQISNNRKCTSPRSSDTEENVKRRTHNVLERQRRNELKRSFFALRDQIPELENNEKAPKVVILKKATAYILSVQAEEQKLISEEDLLRKRREQLKHKLEQLRNSCA\n"
     ]
    }
   ],
   "source": [
    "import requests\n",
    "from Bio import SeqIO\n",
    "from io import StringIO\n",
    "\n",
    "# -------------------------------------------------------\n",
    "# 1. Obtener la secuencia de MYC desde UniProt usando el código P01106 y debe ser su isoforma corta (3)\n",
    "uniprot_code = 'P01106'\n",
    "\n",
    "# Se construye la URL para descargar el FASTA de UniProt\n",
    "url = f\"https://rest.uniprot.org/uniprotkb/{uniprot_code}.fasta\"\n",
    "response = requests.get(url)\n",
    "\n",
    "if response.status_code != 200:\n",
    "    raise Exception(f\"Error al recuperar la secuencia de UniProt para {uniprot_code}: {response.status_code}\")\n",
    "\n",
    "# Se parsea el FASTA utilizando Biopython\n",
    "fasta_data = response.text\n",
    "record = SeqIO.read(StringIO(fasta_data), \"fasta\")\n",
    "print(record.name)\n",
    "uniprot_seq = str(record.seq)\n",
    "\n",
    "print(f\"Secuencia de UniProt ({uniprot_code}):\")\n",
    "print(uniprot_seq)"
   ]
  },
  {
   "cell_type": "code",
   "execution_count": 27,
   "id": "6616b4b3-f29f-41aa-85f3-2a85d5d4b5bc",
   "metadata": {},
   "outputs": [
    {
     "name": "stdout",
     "output_type": "stream",
     "text": [
      "Secuencia de UniProt (P01106):\n",
      "DNDGGGGSFSTADQLEMVTELLGGDMVNQSFICDPDDETFIKNIIIQDCMWSGFSAAAKLVSEKLASYQAARKDSGSPNPARGHSVCSTSSLYLQDLSAAASECIDPSVVFPYPLNDSSSPKSCASQDSSAFSPSSDSLLSSTESSPQGSPEPLVLHEETPPTTSSDSEEEQEDEEEIDVVSVEKRQAPGKRSESGSPSAG\n"
     ]
    }
   ],
   "source": [
    "# cortar a residuos 100 - 300 para solo tener dominios mbii y mbiii\n",
    "uniprot_seq = uniprot_seq[99:300]\n",
    "print(f\"Secuencia de UniProt ({uniprot_code}):\")\n",
    "print(uniprot_seq)"
   ]
  },
  {
   "cell_type": "code",
   "execution_count": 28,
   "id": "247ef61b-9b7e-4bcb-9c7b-059f1656c992",
   "metadata": {},
   "outputs": [
    {
     "name": "stdout",
     "output_type": "stream",
     "text": [
      "sp|Q9BZ95-3|NSD3_HUMAN\n",
      "Secuencia de UniProt (Q9BZ95):\n",
      "MDFSFSFMQGIMGNTIQQPPQLIDSANIRQEDAFDNNSDIAEDGGQTPYEATLQQGFQYPATTEDLPPLTNGYPSSISVYETQTKYQSYNQYPNGSANGFGAVRNFSPTDYYHSEIPNTRPHEILEKPSPPQPPPPPSVPQTVIPKKTGSPEIKLKITKTIQNGRELFESSLCGDLLNEVQASEHTKSKHESRKEKRKKSNKHDSSRSEERKSHKIPKLEPEEQNRPNERVDTVSEKPREEPVLKEEAPVQPILSSVPTTEVSTGVKFQVGDLVWSKVGTYPWWPCMVSSDPQLEVHTKINTRGAREYHVQFFSNQPERAWVHEKRVREYKGHKQYEELLAEATKQASNHSEKQKIRKPRPQRERAQWDIGIAHAEKALKMTREERIEQYTFIYIDKQPEEALSQAKKSVASKTEVKKTRRPRSVLNTQPEQTNAGEVASSLSSTEIRRHSQRRHTSAEEEEPPPVKIAWKTAAARKSLPASITMHKGSLDLQKCNMSPVVKIEQVFALQNATGDGKFIDQFVYSTKGIGNKTEISVRGQDRLIISTPNQRNEKPTQSVSSPEATSGSTGSVEKKQQRRSIRTRSESEKSTEVVPKKKIKKEQVETVPQATVKTGLQKGSADRGVQGSVRFSDSSVSAAIEETVD\n"
     ]
    }
   ],
   "source": [
    "import requests\n",
    "from Bio import SeqIO\n",
    "from io import StringIO\n",
    "\n",
    "# -------------------------------------------------------\n",
    "# 1. Obtener la secuencia de MYC desde UniProt usando el código P01106 y debe ser su isoforma corta (3)\n",
    "uniprot_code2 = 'Q9BZ95'\n",
    "isoform = '3'\n",
    "\n",
    "# Se construye la URL para descargar el FASTA de UniProt\n",
    "url = f\"https://rest.uniprot.org/uniprotkb/{uniprot_code2}-{isoform}.fasta\"\n",
    "response = requests.get(url)\n",
    "\n",
    "if response.status_code != 200:\n",
    "    raise Exception(f\"Error al recuperar la secuencia de UniProt para {uniprot_code2}: {response.status_code}\")\n",
    "\n",
    "# Se parsea el FASTA utilizando Biopython\n",
    "fasta_data = response.text\n",
    "record = SeqIO.read(StringIO(fasta_data), \"fasta\")\n",
    "print(record.name)\n",
    "uniprot_seq2 = str(record.seq)\n",
    "\n",
    "print(f\"Secuencia de UniProt ({uniprot_code2}):\")\n",
    "print(uniprot_seq2)"
   ]
  },
  {
   "cell_type": "code",
   "execution_count": 31,
   "id": "ebc0f550-04cb-4aa1-ba69-64288ec1bf8b",
   "metadata": {},
   "outputs": [
    {
     "name": "stdout",
     "output_type": "stream",
     "text": [
      "../run/P01106-Q9BZ95.yaml\n"
     ]
    }
   ],
   "source": [
    "yam_name = f\"../run/{uniprot_code}-{uniprot_code2}.yaml\"\n",
    "with open(yam_name, 'w') as yam_file:\n",
    "    yam_text = f\"\"\"\n",
    "version: 1  # Optional, defaults to 1\n",
    "sequences:\n",
    "  - protein:\n",
    "      id: [M]\n",
    "      sequence: {uniprot_seq}\n",
    "  - protein:\n",
    "      id: [N]\n",
    "      sequence: {uniprot_seq2}\n",
    "\"\"\"\n",
    "    yam_file.write(yam_text.strip())\n",
    "\n",
    "print(yam_name)\n"
   ]
  },
  {
   "cell_type": "code",
   "execution_count": 34,
   "id": "f6c28fb5-39ba-4ba6-b38d-8b78b0f53c45",
   "metadata": {},
   "outputs": [
    {
     "name": "stdout",
     "output_type": "stream",
     "text": [
      "\n",
      "conda activate boltz2\n",
      "boltz predict P01106-Q9BZ95.yaml --use_msa_server --accelerator cpu --output_format pdb --override --diffusion_samples 50\n",
      "mkdir MYC && cd MYC\n",
      "cp ../boltz_results_P01106-Q9BZ95/predictions/P01106-Q9BZ95/P01106-Q9BZ95_model_0.pdb P01106-Q9BZ95.pdb\n",
      "pymol P01106-Q9BZ95.pdb\n",
      "\n",
      "\n",
      "\n"
     ]
    }
   ],
   "source": [
    "## in terminal from run/ folder\n",
    "## Esto lo automatizare para generar un archivo bash, solo hay que sacar la verificación de la carga del ligando\n",
    "print(\"\"\"\n",
    "conda activate boltz2\n",
    "boltz predict {0}-{1}.yaml --use_msa_server --accelerator cpu --output_format pdb --override --diffusion_samples 50\n",
    "mkdir MYC && cd MYC\n",
    "cp ../boltz_results_{0}-{1}/predictions/{0}-{1}/{0}-{1}_model_0.pdb {0}-{1}.pdb\n",
    "pymol {0}-{1}.pdb\n",
    "\n",
    "\n",
    "\n",
    "\"\"\".format(\n",
    "    uniprot_code, uniprot_code2\n",
    "))"
   ]
  },
  {
   "cell_type": "code",
   "execution_count": null,
   "id": "c5a83ab7-0d57-4377-a828-afd373e96fe1",
   "metadata": {},
   "outputs": [],
   "source": []
  }
 ],
 "metadata": {
  "kernelspec": {
   "display_name": "Python 3 (ipykernel)",
   "language": "python",
   "name": "python3"
  },
  "language_info": {
   "codemirror_mode": {
    "name": "ipython",
    "version": 3
   },
   "file_extension": ".py",
   "mimetype": "text/x-python",
   "name": "python",
   "nbconvert_exporter": "python",
   "pygments_lexer": "ipython3",
   "version": "3.11.5"
  }
 },
 "nbformat": 4,
 "nbformat_minor": 5
}
