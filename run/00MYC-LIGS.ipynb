{
 "cells": [
  {
   "cell_type": "code",
   "execution_count": 1,
   "id": "8701bad2-01eb-4780-91b5-b99e54030116",
   "metadata": {},
   "outputs": [
    {
     "name": "stdout",
     "output_type": "stream",
     "text": [
      "Myc proto-oncogene protein: start 1, end 454\n",
      "bHLH: start 369, end 421\n",
      "Disordered: start 219, end 310\n",
      "Basic motif: start 369, end 382\n",
      "Helix-loop-helix motif: start 383, end 421\n",
      "Leucine-zipper: start 428, end 449\n",
      "9aaTAD: start 115, end 123\n",
      "UBR5-degron: start 370, end 379\n",
      "Low complexity: start 222, end 252\n",
      "Acidic residues: start 266, end 278\n",
      "Basic and acidic residues: start 281, end 293\n",
      "Phosphoserine: start 21, end 21\n",
      "Phosphothreonine; by RAF; in vitro: start 23, end 23\n",
      "Phosphothreonine; by GSK3; alternate: start 73, end 73\n",
      "Phosphoserine; by DYRK2, GSK3 and CDK2: start 77, end 77\n",
      "Phosphoserine: start 86, end 86\n",
      "Phosphoserine: start 96, end 96\n",
      "N6-acetyllysine; by PCAF; alternate: start 158, end 158\n",
      "N6-acetyllysine; alternate: start 163, end 163\n",
      "Phosphoserine: start 166, end 166\n",
      "N6-acetyllysine; by PCAF: start 172, end 172\n",
      "Phosphoserine: start 174, end 174\n",
      "Phosphoserine: start 176, end 176\n",
      "N6-acetyllysine; by PCAF: start 290, end 290\n",
      "Phosphoserine: start 308, end 308\n",
      "Phosphoserine: start 329, end 329\n",
      "Phosphothreonine: start 330, end 330\n",
      "N6-acetyllysine; by PCAF: start 332, end 332\n",
      "N6-acetyllysine; by PCAF: start 338, end 338\n",
      "Phosphoserine; by PIM2; in vitro: start 344, end 344\n",
      "Phosphoserine: start 359, end 359\n",
      "Phosphoserine: start 362, end 362\n",
      "Phosphoserine: start 363, end 363\n",
      "N6-acetyllysine; by PCAF: start 386, end 386\n",
      "O-linked (GlcNAc) threonine; alternate: start 73, end 73\n",
      "Glycyl lysine isopeptide (Lys-Gly) (interchain with G-Cter in SUMO2): start 67, end 67\n",
      "Glycyl lysine isopeptide (Lys-Gly) (interchain with G-Cter in SUMO2); alternate: start 158, end 158\n",
      "Glycyl lysine isopeptide (Lys-Gly) (interchain with G-Cter in SUMO2); alternate: start 163, end 163\n",
      "Glycyl lysine isopeptide (Lys-Gly) (interchain with G-Cter in SUMO2): start 313, end 313\n",
      "in isoform 1: start 1, end 15\n",
      "in isoform 3: start 10, end 11\n",
      "in dbSNP:rs4645959: start 26, end 26\n",
      "in a Burkitt lymphoma sample; dbSNP:rs121918684: start 54, end 54\n",
      "in a Burkitt lymphoma sample; dbSNP:rs28933407: start 72, end 72\n",
      "in a Burkitt lymphoma sample; dbSNP:rs121918685: start 74, end 74\n",
      "in a Burkitt lymphoma sample; dbSNP:rs121918683: start 101, end 101\n",
      "in dbSNP:rs4645960: start 175, end 175\n",
      "in dbSNP:rs4645961: start 185, end 185\n",
      "in dbSNP:rs4645968: start 337, end 337\n",
      "Impairs interaction with FBXW7 and subsequent degradation by the proteasome. Normal inhibition of Ras-induced senescence.: start 73, end 73\n",
      "Impairs interaction with FBXW7 and subsequent degradation by the proteasome. Impaired inhibition of Ras-induced senescence. Abolishes phosphorylation by DYRK2, and subsequent phosphorylation by GSK3B at Thr-73.: start 77, end 77\n",
      "Phospho-mimetic mutant; abolished regulation by AMBRA1.: start 77, end 77\n",
      "Abolished ubiquitination and degradation by the DCX(TRPC4AP) complex.: start 450, end 450\n",
      "in Ref. 9; BAA01374: start 2, end 2\n",
      "in Ref. 9; BAA01374: start 6, end 6\n",
      "in Ref. 5; no nucleotide entry: start 21, end 22\n",
      "in Ref. 5; no nucleotide entry: start 25, end 25\n",
      "in Ref. 5; no nucleotide entry: start 71, end 71\n",
      "in Ref. 7; CAA25288: start 77, end 77\n",
      "in Ref. 5; no nucleotide entry: start 103, end 103\n",
      "in Ref. 5; no nucleotide entry: start 107, end 107\n",
      "in Ref. 5; no nucleotide entry: start 129, end 129\n",
      "in Ref. 5; no nucleotide entry: start 135, end 135\n",
      "in Ref. 5; no nucleotide entry: start 186, end 186\n",
      "in Ref. 5; no nucleotide entry: start 218, end 218\n",
      "in Ref. 5; no nucleotide entry: start 245, end 245\n",
      "in Ref. 5; no nucleotide entry: start 255, end 255\n",
      "in Ref. 5; no nucleotide entry: start 260, end 260\n",
      ": start 113, end 118\n",
      ": start 119, end 121\n",
      ": start 366, end 393\n",
      ": start 397, end 399\n",
      ": start 407, end 450\n"
     ]
    }
   ],
   "source": [
    "#Request para encontrar posiciones de segmentos transmembranales y otras cosas\n",
    "def fetch_protein_info(uniprot_id):\n",
    "    import requests\n",
    "    url = f\"https://rest.uniprot.org/uniprotkb/{uniprot_id}.json\"\n",
    "    response = requests.get(url)\n",
    "    if response.status_code == 200:\n",
    "        return response.json()\n",
    "    else:\n",
    "        return None\n",
    "\n",
    "info = fetch_protein_info('p01106')\n",
    "features = info['features']\n",
    "for j in features:\n",
    "    desc = j.get('description', 'No description')\n",
    "    loc = j.get('location', {})\n",
    "    start = loc.get('start', {}).get('value', 'Unknown')\n",
    "    end = loc.get('end', {}).get('value', 'Unknown')\n",
    "    print(f\"{desc}: start {start}, end {end}\")"
   ]
  },
  {
   "cell_type": "code",
   "execution_count": 2,
   "id": "a680a58d-3eb1-4eb2-be3c-16af080962dc",
   "metadata": {},
   "outputs": [
    {
     "name": "stdout",
     "output_type": "stream",
     "text": [
      "sp|P01106|MYC_HUMAN\n",
      "Secuencia de UniProt (P01106):\n",
      "MDFFRVVENQQPPATMPLNVSFTNRNYDLDYDSVQPYFYCDEEENFYQQQQQSELQPPAPSEDIWKKFELLPTPPLSPSRRSGLCSPSYVAVTPFSLRGDNDGGGGSFSTADQLEMVTELLGGDMVNQSFICDPDDETFIKNIIIQDCMWSGFSAAAKLVSEKLASYQAARKDSGSPNPARGHSVCSTSSLYLQDLSAAASECIDPSVVFPYPLNDSSSPKSCASQDSSAFSPSSDSLLSSTESSPQGSPEPLVLHEETPPTTSSDSEEEQEDEEEIDVVSVEKRQAPGKRSESGSPSAGGHSKPPHSPLVLKRCHVSTHQHNYAAPPSTRKDYPAAKRVKLDSVRVLRQISNNRKCTSPRSSDTEENVKRRTHNVLERQRRNELKRSFFALRDQIPELENNEKAPKVVILKKATAYILSVQAEEQKLISEEDLLRKRREQLKHKLEQLRNSCA\n"
     ]
    }
   ],
   "source": [
    "import requests\n",
    "from Bio import SeqIO\n",
    "from io import StringIO\n",
    "\n",
    "# -------------------------------------------------------\n",
    "# 1. Obtener la secuencia de MYC desde UniProt usando el código P01106 y debe ser su isoforma corta (3)\n",
    "uniprot_code = 'P01106'\n",
    "\n",
    "# Se construye la URL para descargar el FASTA de UniProt\n",
    "url = f\"https://rest.uniprot.org/uniprotkb/{uniprot_code}.fasta\"\n",
    "response = requests.get(url)\n",
    "\n",
    "if response.status_code != 200:\n",
    "    raise Exception(f\"Error al recuperar la secuencia de UniProt para {uniprot_code}: {response.status_code}\")\n",
    "\n",
    "# Se parsea el FASTA utilizando Biopython\n",
    "fasta_data = response.text\n",
    "record = SeqIO.read(StringIO(fasta_data), \"fasta\")\n",
    "print(record.name)\n",
    "uniprot_seq = str(record.seq)\n",
    "\n",
    "print(f\"Secuencia de UniProt ({uniprot_code}):\")\n",
    "print(uniprot_seq)"
   ]
  },
  {
   "cell_type": "code",
   "execution_count": 3,
   "id": "1b3d7056-bf77-4a72-9d3c-e9ff20ad573c",
   "metadata": {},
   "outputs": [
    {
     "name": "stdout",
     "output_type": "stream",
     "text": [
      "Secuencia de UniProt (P01106):\n",
      "DNDGGGGSFSTADQLEMVTELLGGDMVNQSFICDPDDETFIKNIIIQDCMWSGFSAAAKLVSEKLASYQAARKDSGSPNPARGHSVCSTSSLYLQDLSAA\n"
     ]
    }
   ],
   "source": [
    "# cortar a residuos dominion mbii(estrictamente desde el 113 al 185 segun el paper)\n",
    "mbii = uniprot_seq[99:199]\n",
    "print(f\"Secuencia de UniProt ({uniprot_code}):\")\n",
    "print(mbii)"
   ]
  },
  {
   "cell_type": "code",
   "execution_count": 4,
   "id": "76dabcf7-ae7f-4854-92f5-aa79d9646f42",
   "metadata": {},
   "outputs": [
    {
     "name": "stdout",
     "output_type": "stream",
     "text": [
      "Secuencia de UniProt (P01106):\n",
      "ARKDSGSPNPARGHSVCSTSSLYLQDLSAAASECIDPSVVFPYPLNDSSSPKSCASQDSSAFSPSSDSLLSSTESSPQGSPEPLVLHEETPPTTSSDSEEEQEDEEEIDVVSVEKRQAPGKRSESGSPSA\n"
     ]
    }
   ],
   "source": [
    "# cortar a residuos dominion mbii(estrictamente desde el 186 al 280[aprox] segun el paper)\n",
    "mbiii = uniprot_seq[169:299]\n",
    "print(f\"Secuencia de UniProt ({uniprot_code}):\")\n",
    "print(mbiii)"
   ]
  },
  {
   "cell_type": "code",
   "execution_count": 5,
   "id": "cf3768fb-9e3b-42c2-95df-60685437ae5b",
   "metadata": {},
   "outputs": [
    {
     "name": "stdout",
     "output_type": "stream",
     "text": [
      "Secuencia de UniProt (P01106):\n",
      "DNDGGGGSFSTADQLEMVTELLGGDMVNQSFICDPDDETFIKNIIIQDCMWSGFSAAAKLVSEKLASYQAARKDSGSPNPARGHSVCSTSSLYLQDLSAAASECIDPSVVFPYPLNDSSSPKSCASQDSSAFSPSSDSLLSSTESSPQGSPEPLVLHEETPPTTSSDSEEEQEDEEEIDVVSVEKRQAPGKRSESGSPSA\n"
     ]
    }
   ],
   "source": [
    "mbiiyiii = uniprot_seq[99:299]\n",
    "print(f\"Secuencia de UniProt ({uniprot_code}):\")\n",
    "print(mbiiyiii)"
   ]
  },
  {
   "cell_type": "code",
   "execution_count": 6,
   "id": "265104e7-d435-4434-b0b8-78af4b0808e4",
   "metadata": {},
   "outputs": [
    {
     "data": {
      "text/plain": [
       "{'MBII': 'DNDGGGGSFSTADQLEMVTELLGGDMVNQSFICDPDDETFIKNIIIQDCMWSGFSAAAKLVSEKLASYQAARKDSGSPNPARGHSVCSTSSLYLQDLSAA',\n",
       " 'MBIII': 'ARKDSGSPNPARGHSVCSTSSLYLQDLSAAASECIDPSVVFPYPLNDSSSPKSCASQDSSAFSPSSDSLLSSTESSPQGSPEPLVLHEETPPTTSSDSEEEQEDEEEIDVVSVEKRQAPGKRSESGSPSA',\n",
       " 'MBIIyIII': 'DNDGGGGSFSTADQLEMVTELLGGDMVNQSFICDPDDETFIKNIIIQDCMWSGFSAAAKLVSEKLASYQAARKDSGSPNPARGHSVCSTSSLYLQDLSAAASECIDPSVVFPYPLNDSSSPKSCASQDSSAFSPSSDSLLSSTESSPQGSPEPLVLHEETPPTTSSDSEEEQEDEEEIDVVSVEKRQAPGKRSESGSPSA'}"
      ]
     },
     "execution_count": 6,
     "metadata": {},
     "output_type": "execute_result"
    }
   ],
   "source": [
    "# Store in dictionary\n",
    "domains = {\n",
    "    \"MBII\": mbii,\n",
    "    \"MBIII\": mbiii,\n",
    "    \"MBIIyIII\": mbiiyiii\n",
    "}\n",
    "domains"
   ]
  },
  {
   "cell_type": "code",
   "execution_count": 7,
   "id": "15daa059-305b-4a7f-9968-e30b3ef94829",
   "metadata": {},
   "outputs": [],
   "source": [
    "#LIGANDOS\n",
    "# https://pubchem.ncbi.nlm.nih.gov/compound/Withaferin-A#section=InChI\n",
    "withaferin_A = 'CC1=C(C(=O)O[C@H](C1)[C@@H](C)[C@H]2CC[C@@H]3[C@@]2(CC[C@H]4[C@H]3C[C@@H]5[C@]6([C@@]4(C(=O)C=C[C@@H]6O)C)O5)C)CO'\n",
    "\n",
    "# https://pubchem.ncbi.nlm.nih.gov/compound/5317235#section=InChI\n",
    "ethoxysanguinarine = 'CCOC1C2=C(C=CC3=C2OCO3)C4=C(N1C)C5=CC6=C(C=C5C=C4)OCO6'\n",
    "\n",
    "ligs_dict = {\n",
    "    \"withaferin_A\": withaferin_A,\n",
    "    \"ethoxysanguinarine\": ethoxysanguinarine\n",
    "}"
   ]
  },
  {
   "cell_type": "code",
   "execution_count": 8,
   "id": "c8bcc6cd-5de5-4495-bc7e-483f411fb3fc",
   "metadata": {},
   "outputs": [
    {
     "name": "stdout",
     "output_type": "stream",
     "text": [
      "{'withaferin_A': 'CC1=C(C(=O)O[C@H](C1)[C@@H](C)[C@H]2CC[C@@H]3[C@@]2(CC[C@H]4[C@H]3C[C@@H]5[C@]6([C@@]4(C(=O)C=C[C@@H]6O)C)O5)C)CO', 'ethoxysanguinarine': 'CCOC1C2=C(C=CC3=C2OCO3)C4=C(N1C)C5=CC6=C(C=C5C=C4)OCO6'}\n"
     ]
    }
   ],
   "source": [
    "#no se protonan previamente\n",
    "#funcion en desuso\n",
    "from rdkit import Chem\n",
    "\n",
    "def protonation_dict(ligand_dict):\n",
    "    \"\"\"\n",
    "    Takes a dictionary {name: SMILES} and returns a new dict\n",
    "    with protonated (explicit hydrogen) SMILES.\n",
    "    \"\"\"\n",
    "    protonated = {}\n",
    "    for name, smi in ligand_dict.items():\n",
    "        mol = Chem.MolFromSmiles(smi)\n",
    "        mol_h = Chem.AddHs(mol)  # Add all hydrogens\n",
    "        protonated[name] = Chem.MolToSmiles(mol_h)\n",
    "    return protonated\n",
    "#ligs_dict = protonation_dict(ligs_dict)\n",
    "print(ligs_dict)\n",
    "\n"
   ]
  },
  {
   "cell_type": "code",
   "execution_count": 9,
   "id": "ebed7880-abc7-4fd9-9329-bc67ff5826c1",
   "metadata": {},
   "outputs": [],
   "source": [
    "import os\n",
    "\n",
    "def write_yaml(domain_key, lig, domains_dict, smiles, output_dir=\"../run\"):\n",
    "    \"\"\"\n",
    "    Writes a YAML file using the sequence from domains_dict[domain_key].\n",
    "\n",
    "    Parameters:\n",
    "    - domain_key (str): key to get sequence from domains_dict, e.g. \"MBII\"\n",
    "    - lig (str): ligand name/id\n",
    "    - domains_dict (dict): dict with domain sequences\n",
    "    - smiles (str): ligand smiles\n",
    "    - output_dir (str): output directory path\n",
    "    \"\"\"\n",
    "\n",
    "    if domain_key not in domains_dict:\n",
    "        raise ValueError(f\"Domain '{domain_key}' not found in domains dictionary.\")\n",
    "\n",
    "    uniprot_seq = domains_dict[domain_key]\n",
    "\n",
    "    os.makedirs(output_dir, exist_ok=True)\n",
    "    yaml_path = os.path.join(output_dir, f\"{domain_key}-{lig}.yaml\")\n",
    "\n",
    "    yaml_content = f\"\"\"\n",
    "version: 1  # Optional, defaults to 1\n",
    "sequences:\n",
    "  - protein:\n",
    "      id: [M]\n",
    "      sequence: {uniprot_seq}\n",
    "  - ligand:\n",
    "      id: [L]\n",
    "      smiles: '{smiles}'\n",
    "properties:\n",
    "    - affinity:\n",
    "        binder: L\n",
    "\"\"\".strip()\n",
    "\n",
    "    with open(yaml_path, \"w\") as yam_file:\n",
    "        yam_file.write(yaml_content)\n",
    "\n",
    "    print(f\"✅ YAML written: {yaml_path}\")\n",
    "    return yaml_path\n",
    "\n",
    "\n"
   ]
  },
  {
   "cell_type": "code",
   "execution_count": 10,
   "id": "93d65922-3708-46bb-9f11-6234802dc66a",
   "metadata": {},
   "outputs": [
    {
     "name": "stdout",
     "output_type": "stream",
     "text": [
      "✅ YAML written: ../run/MBII-withaferin_A.yaml\n",
      "✅ YAML written: ../run/MBII-ethoxysanguinarine.yaml\n",
      "✅ YAML written: ../run/MBIII-withaferin_A.yaml\n",
      "✅ YAML written: ../run/MBIII-ethoxysanguinarine.yaml\n",
      "✅ YAML written: ../run/MBIIyIII-withaferin_A.yaml\n",
      "✅ YAML written: ../run/MBIIyIII-ethoxysanguinarine.yaml\n"
     ]
    }
   ],
   "source": [
    "for domain in domains:\n",
    "    for lig_name in ligs_dict:\n",
    "        write_yaml(\n",
    "            domain_key=domain,\n",
    "            lig=lig_name,\n",
    "            domains_dict=domains,\n",
    "            smiles=ligs_dict[lig_name]\n",
    "        )\n"
   ]
  },
  {
   "cell_type": "code",
   "execution_count": null,
   "id": "49d0b138-910f-42e5-a3a3-901911f55a16",
   "metadata": {},
   "outputs": [],
   "source": []
  },
  {
   "cell_type": "code",
   "execution_count": null,
   "id": "20e9f8b4-a841-4214-9a73-1adcf159f7ed",
   "metadata": {},
   "outputs": [],
   "source": []
  },
  {
   "cell_type": "code",
   "execution_count": null,
   "id": "02cabce3-b4c3-4226-8a92-5ed1198aefaa",
   "metadata": {},
   "outputs": [],
   "source": []
  }
 ],
 "metadata": {
  "kernelspec": {
   "display_name": "Python 3 (ipykernel)",
   "language": "python",
   "name": "python3"
  },
  "language_info": {
   "codemirror_mode": {
    "name": "ipython",
    "version": 3
   },
   "file_extension": ".py",
   "mimetype": "text/x-python",
   "name": "python",
   "nbconvert_exporter": "python",
   "pygments_lexer": "ipython3",
   "version": "3.11.5"
  }
 },
 "nbformat": 4,
 "nbformat_minor": 5
}
