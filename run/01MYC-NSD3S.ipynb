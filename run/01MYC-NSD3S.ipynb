{
 "cells": [
  {
   "cell_type": "code",
   "execution_count": 23,
   "id": "e8c65857-a669-4fba-b186-2378aab0e246",
   "metadata": {},
   "outputs": [
    {
     "name": "stdout",
     "output_type": "stream",
     "text": [
      "Myc proto-oncogene protein: start 1, end 454\n",
      "bHLH: start 369, end 421\n",
      "Disordered: start 219, end 310\n",
      "Basic motif: start 369, end 382\n",
      "Helix-loop-helix motif: start 383, end 421\n",
      "Leucine-zipper: start 428, end 449\n",
      "9aaTAD: start 115, end 123\n",
      "UBR5-degron: start 370, end 379\n",
      "Low complexity: start 222, end 252\n",
      "Acidic residues: start 266, end 278\n",
      "Basic and acidic residues: start 281, end 293\n",
      "Phosphoserine: start 21, end 21\n",
      "Phosphothreonine; by RAF; in vitro: start 23, end 23\n",
      "Phosphothreonine; by GSK3; alternate: start 73, end 73\n",
      "Phosphoserine; by DYRK2, GSK3 and CDK2: start 77, end 77\n",
      "Phosphoserine: start 86, end 86\n",
      "Phosphoserine: start 96, end 96\n",
      "N6-acetyllysine; by PCAF; alternate: start 158, end 158\n",
      "N6-acetyllysine; alternate: start 163, end 163\n",
      "Phosphoserine: start 166, end 166\n",
      "N6-acetyllysine; by PCAF: start 172, end 172\n",
      "Phosphoserine: start 174, end 174\n",
      "Phosphoserine: start 176, end 176\n",
      "N6-acetyllysine; by PCAF: start 290, end 290\n",
      "Phosphoserine: start 308, end 308\n",
      "Phosphoserine: start 329, end 329\n",
      "Phosphothreonine: start 330, end 330\n",
      "N6-acetyllysine; by PCAF: start 332, end 332\n",
      "N6-acetyllysine; by PCAF: start 338, end 338\n",
      "Phosphoserine; by PIM2; in vitro: start 344, end 344\n",
      "Phosphoserine: start 359, end 359\n",
      "Phosphoserine: start 362, end 362\n",
      "Phosphoserine: start 363, end 363\n",
      "N6-acetyllysine; by PCAF: start 386, end 386\n",
      "O-linked (GlcNAc) threonine; alternate: start 73, end 73\n",
      "Glycyl lysine isopeptide (Lys-Gly) (interchain with G-Cter in SUMO2): start 67, end 67\n",
      "Glycyl lysine isopeptide (Lys-Gly) (interchain with G-Cter in SUMO2); alternate: start 158, end 158\n",
      "Glycyl lysine isopeptide (Lys-Gly) (interchain with G-Cter in SUMO2); alternate: start 163, end 163\n",
      "Glycyl lysine isopeptide (Lys-Gly) (interchain with G-Cter in SUMO2): start 313, end 313\n",
      "in isoform 1: start 1, end 15\n",
      "in isoform 3: start 10, end 11\n",
      "in dbSNP:rs4645959: start 26, end 26\n",
      "in a Burkitt lymphoma sample; dbSNP:rs121918684: start 54, end 54\n",
      "in a Burkitt lymphoma sample; dbSNP:rs28933407: start 72, end 72\n",
      "in a Burkitt lymphoma sample; dbSNP:rs121918685: start 74, end 74\n",
      "in a Burkitt lymphoma sample; dbSNP:rs121918683: start 101, end 101\n",
      "in dbSNP:rs4645960: start 175, end 175\n",
      "in dbSNP:rs4645961: start 185, end 185\n",
      "in dbSNP:rs4645968: start 337, end 337\n",
      "Impairs interaction with FBXW7 and subsequent degradation by the proteasome. Normal inhibition of Ras-induced senescence.: start 73, end 73\n",
      "Impairs interaction with FBXW7 and subsequent degradation by the proteasome. Impaired inhibition of Ras-induced senescence. Abolishes phosphorylation by DYRK2, and subsequent phosphorylation by GSK3B at Thr-73.: start 77, end 77\n",
      "Phospho-mimetic mutant; abolished regulation by AMBRA1.: start 77, end 77\n",
      "Abolished ubiquitination and degradation by the DCX(TRPC4AP) complex.: start 450, end 450\n",
      "in Ref. 9; BAA01374: start 2, end 2\n",
      "in Ref. 9; BAA01374: start 6, end 6\n",
      "in Ref. 5; no nucleotide entry: start 21, end 22\n",
      "in Ref. 5; no nucleotide entry: start 25, end 25\n",
      "in Ref. 5; no nucleotide entry: start 71, end 71\n",
      "in Ref. 7; CAA25288: start 77, end 77\n",
      "in Ref. 5; no nucleotide entry: start 103, end 103\n",
      "in Ref. 5; no nucleotide entry: start 107, end 107\n",
      "in Ref. 5; no nucleotide entry: start 129, end 129\n",
      "in Ref. 5; no nucleotide entry: start 135, end 135\n",
      "in Ref. 5; no nucleotide entry: start 186, end 186\n",
      "in Ref. 5; no nucleotide entry: start 218, end 218\n",
      "in Ref. 5; no nucleotide entry: start 245, end 245\n",
      "in Ref. 5; no nucleotide entry: start 255, end 255\n",
      "in Ref. 5; no nucleotide entry: start 260, end 260\n",
      ": start 113, end 118\n",
      ": start 119, end 121\n",
      ": start 366, end 393\n",
      ": start 397, end 399\n",
      ": start 407, end 450\n"
     ]
    }
   ],
   "source": [
    "#Request para encontrar posiciones de segmentos transmembranales y otras cosas\n",
    "def fetch_protein_info(uniprot_id):\n",
    "    import requests\n",
    "    url = f\"https://rest.uniprot.org/uniprotkb/{uniprot_id}.json\"\n",
    "    response = requests.get(url)\n",
    "    if response.status_code == 200:\n",
    "        return response.json()\n",
    "    else:\n",
    "        return None\n",
    "\n",
    "info = fetch_protein_info('p01106')\n",
    "features = info['features']\n",
    "for j in features:\n",
    "    desc = j.get('description', 'No description')\n",
    "    loc = j.get('location', {})\n",
    "    start = loc.get('start', {}).get('value', 'Unknown')\n",
    "    end = loc.get('end', {}).get('value', 'Unknown')\n",
    "    print(f\"{desc}: start {start}, end {end}\")\n",
    "\n"
   ]
  },
  {
   "cell_type": "code",
   "execution_count": 6,
   "id": "e5458172-7612-4e59-ae4f-63f24f819c7c",
   "metadata": {},
   "outputs": [
    {
     "name": "stdout",
     "output_type": "stream",
     "text": [
      "sp|P01106|MYC_HUMAN\n",
      "Secuencia de UniProt (P01106):\n",
      "MDFFRVVENQQPPATMPLNVSFTNRNYDLDYDSVQPYFYCDEEENFYQQQQQSELQPPAPSEDIWKKFELLPTPPLSPSRRSGLCSPSYVAVTPFSLRGDNDGGGGSFSTADQLEMVTELLGGDMVNQSFICDPDDETFIKNIIIQDCMWSGFSAAAKLVSEKLASYQAARKDSGSPNPARGHSVCSTSSLYLQDLSAAASECIDPSVVFPYPLNDSSSPKSCASQDSSAFSPSSDSLLSSTESSPQGSPEPLVLHEETPPTTSSDSEEEQEDEEEIDVVSVEKRQAPGKRSESGSPSAGGHSKPPHSPLVLKRCHVSTHQHNYAAPPSTRKDYPAAKRVKLDSVRVLRQISNNRKCTSPRSSDTEENVKRRTHNVLERQRRNELKRSFFALRDQIPELENNEKAPKVVILKKATAYILSVQAEEQKLISEEDLLRKRREQLKHKLEQLRNSCA\n"
     ]
    }
   ],
   "source": [
    "import requests\n",
    "from Bio import SeqIO\n",
    "from io import StringIO\n",
    "\n",
    "# -------------------------------------------------------\n",
    "# 1. Obtener la secuencia de MYC desde UniProt usando el código P01106 y debe ser su isoforma corta (3)\n",
    "uniprot_code = 'P01106'\n",
    "\n",
    "# Se construye la URL para descargar el FASTA de UniProt\n",
    "url = f\"https://rest.uniprot.org/uniprotkb/{uniprot_code}.fasta\"\n",
    "response = requests.get(url)\n",
    "\n",
    "if response.status_code != 200:\n",
    "    raise Exception(f\"Error al recuperar la secuencia de UniProt para {uniprot_code}: {response.status_code}\")\n",
    "\n",
    "# Se parsea el FASTA utilizando Biopython\n",
    "fasta_data = response.text\n",
    "record = SeqIO.read(StringIO(fasta_data), \"fasta\")\n",
    "print(record.name)\n",
    "uniprot_seq = str(record.seq)\n",
    "\n",
    "print(f\"Secuencia de UniProt ({uniprot_code}):\")\n",
    "print(uniprot_seq)"
   ]
  },
  {
   "cell_type": "code",
   "execution_count": 7,
   "id": "247ef61b-9b7e-4bcb-9c7b-059f1656c992",
   "metadata": {},
   "outputs": [
    {
     "name": "stdout",
     "output_type": "stream",
     "text": [
      "sp|Q9BZ95-3|NSD3_HUMAN\n",
      "Secuencia de UniProt (Q9BZ95):\n",
      "MDFSFSFMQGIMGNTIQQPPQLIDSANIRQEDAFDNNSDIAEDGGQTPYEATLQQGFQYPATTEDLPPLTNGYPSSISVYETQTKYQSYNQYPNGSANGFGAVRNFSPTDYYHSEIPNTRPHEILEKPSPPQPPPPPSVPQTVIPKKTGSPEIKLKITKTIQNGRELFESSLCGDLLNEVQASEHTKSKHESRKEKRKKSNKHDSSRSEERKSHKIPKLEPEEQNRPNERVDTVSEKPREEPVLKEEAPVQPILSSVPTTEVSTGVKFQVGDLVWSKVGTYPWWPCMVSSDPQLEVHTKINTRGAREYHVQFFSNQPERAWVHEKRVREYKGHKQYEELLAEATKQASNHSEKQKIRKPRPQRERAQWDIGIAHAEKALKMTREERIEQYTFIYIDKQPEEALSQAKKSVASKTEVKKTRRPRSVLNTQPEQTNAGEVASSLSSTEIRRHSQRRHTSAEEEEPPPVKIAWKTAAARKSLPASITMHKGSLDLQKCNMSPVVKIEQVFALQNATGDGKFIDQFVYSTKGIGNKTEISVRGQDRLIISTPNQRNEKPTQSVSSPEATSGSTGSVEKKQQRRSIRTRSESEKSTEVVPKKKIKKEQVETVPQATVKTGLQKGSADRGVQGSVRFSDSSVSAAIEETVD\n"
     ]
    }
   ],
   "source": [
    "import requests\n",
    "from Bio import SeqIO\n",
    "from io import StringIO\n",
    "\n",
    "# -------------------------------------------------------\n",
    "# 1. Obtener la secuencia de MYC desde UniProt usando el código P01106 y debe ser su isoforma corta (3)\n",
    "uniprot_code2 = 'Q9BZ95'\n",
    "isoform = '3'\n",
    "\n",
    "# Se construye la URL para descargar el FASTA de UniProt\n",
    "url = f\"https://rest.uniprot.org/uniprotkb/{uniprot_code2}-{isoform}.fasta\"\n",
    "response = requests.get(url)\n",
    "\n",
    "if response.status_code != 200:\n",
    "    raise Exception(f\"Error al recuperar la secuencia de UniProt para {uniprot_code2}: {response.status_code}\")\n",
    "\n",
    "# Se parsea el FASTA utilizando Biopython\n",
    "fasta_data = response.text\n",
    "record = SeqIO.read(StringIO(fasta_data), \"fasta\")\n",
    "print(record.name)\n",
    "uniprot_seq2 = str(record.seq)\n",
    "\n",
    "print(f\"Secuencia de UniProt ({uniprot_code2}):\")\n",
    "print(uniprot_seq2)"
   ]
  },
  {
   "cell_type": "code",
   "execution_count": 8,
   "id": "497b838f-f906-434e-9519-0008c0843af4",
   "metadata": {},
   "outputs": [
    {
     "name": "stdout",
     "output_type": "stream",
     "text": [
      "Secuencia de UniProt (P01106):\n",
      "DNDGGGGSFSTADQLEMVTELLGGDMVNQSFICDPDDETFIKNIIIQDCMWSGFSAAAKLVSEKLASYQAARKDSGSPNPARGHSVCSTSSLYLQDLSAA\n"
     ]
    }
   ],
   "source": [
    "# cortar a residuos dominion mbii(estrictamente desde el 113 al 185 segun el paper)\n",
    "mbii = uniprot_seq[99:199]\n",
    "print(f\"Secuencia de UniProt ({uniprot_code}):\")\n",
    "print(mbii)"
   ]
  },
  {
   "cell_type": "code",
   "execution_count": 9,
   "id": "503280c6-b4a5-45a4-8b16-d81b7fd9d1c5",
   "metadata": {},
   "outputs": [
    {
     "name": "stdout",
     "output_type": "stream",
     "text": [
      "Secuencia de UniProt (P01106):\n",
      "ARKDSGSPNPARGHSVCSTSSLYLQDLSAAASECIDPSVVFPYPLNDSSSPKSCASQDSSAFSPSSDSLLSSTESSPQGSPEPLVLHEETPPTTSSDSEEEQEDEEEIDVVSVEKRQAPGKRSESGSPSA\n"
     ]
    }
   ],
   "source": [
    "# cortar a residuos dominion mbii(estrictamente desde el 186 al 280[aprox] segun el paper)\n",
    "mbiii = uniprot_seq[169:299]\n",
    "print(f\"Secuencia de UniProt ({uniprot_code}):\")\n",
    "print(mbiii)"
   ]
  },
  {
   "cell_type": "code",
   "execution_count": 10,
   "id": "bd70f1a5-5850-4fb9-b136-8623803d7021",
   "metadata": {},
   "outputs": [
    {
     "name": "stdout",
     "output_type": "stream",
     "text": [
      "Secuencia de UniProt (P01106):\n",
      "DNDGGGGSFSTADQLEMVTELLGGDMVNQSFICDPDDETFIKNIIIQDCMWSGFSAAAKLVSEKLASYQAARKDSGSPNPARGHSVCSTSSLYLQDLSAAASECIDPSVVFPYPLNDSSSPKSCASQDSSAFSPSSDSLLSSTESSPQGSPEPLVLHEETPPTTSSDSEEEQEDEEEIDVVSVEKRQAPGKRSESGSPSA\n"
     ]
    }
   ],
   "source": [
    "mbiiyiii = uniprot_seq[99:299]\n",
    "print(f\"Secuencia de UniProt ({uniprot_code}):\")\n",
    "print(mbiiyiii)"
   ]
  },
  {
   "cell_type": "code",
   "execution_count": 11,
   "id": "7c555f3b-4794-4a36-b37e-53349b1230de",
   "metadata": {},
   "outputs": [
    {
     "data": {
      "text/plain": [
       "{'MBII': 'DNDGGGGSFSTADQLEMVTELLGGDMVNQSFICDPDDETFIKNIIIQDCMWSGFSAAAKLVSEKLASYQAARKDSGSPNPARGHSVCSTSSLYLQDLSAA',\n",
       " 'MBIII': 'ARKDSGSPNPARGHSVCSTSSLYLQDLSAAASECIDPSVVFPYPLNDSSSPKSCASQDSSAFSPSSDSLLSSTESSPQGSPEPLVLHEETPPTTSSDSEEEQEDEEEIDVVSVEKRQAPGKRSESGSPSA',\n",
       " 'MBIIyIII': 'DNDGGGGSFSTADQLEMVTELLGGDMVNQSFICDPDDETFIKNIIIQDCMWSGFSAAAKLVSEKLASYQAARKDSGSPNPARGHSVCSTSSLYLQDLSAAASECIDPSVVFPYPLNDSSSPKSCASQDSSAFSPSSDSLLSSTESSPQGSPEPLVLHEETPPTTSSDSEEEQEDEEEIDVVSVEKRQAPGKRSESGSPSA'}"
      ]
     },
     "execution_count": 11,
     "metadata": {},
     "output_type": "execute_result"
    }
   ],
   "source": [
    "# Store in dictionary\n",
    "domains = {\n",
    "    \"MBII\": mbii,\n",
    "    \"MBIII\": mbiii,\n",
    "    \"MBIIyIII\": mbiiyiii\n",
    "}\n",
    "domains"
   ]
  },
  {
   "cell_type": "code",
   "execution_count": 15,
   "id": "c38d95ee-2abd-43a0-840c-cfcc1141007b",
   "metadata": {},
   "outputs": [],
   "source": [
    "import os\n",
    "\n",
    "def write_yaml(uniprot_code, uniprot_code2, uniprot_seq2, domain_key, domains_dict, output_dir=\"../run\"):\n",
    "    \"\"\"\n",
    "    Writes a YAML file with:\n",
    "    - domain sequence (variable) from domains_dict[domain_key]\n",
    "    - fixed uniprot_seq2 sequence\n",
    "    - ligand smiles\n",
    "    - pocket constraints hardcoded\n",
    "\n",
    "    Parameters:\n",
    "    - uniprot_code (str): UniProt code for domain sequence\n",
    "    - uniprot_code2 (str): UniProt code for fixed sequence\n",
    "    - uniprot_seq2 (str): fixed sequence (e.g. full NSD3S)\n",
    "    - domain_key (str): key to get domain sequence from domains_dict\n",
    "    - lig (str): ligand name/id\n",
    "    - domains_dict (dict): dict with domain sequences\n",
    "    - smiles (str): ligand smiles\n",
    "    - output_dir (str): output directory\n",
    "    \"\"\"\n",
    "\n",
    "    if domain_key not in domains_dict:\n",
    "        raise ValueError(f\"Domain '{domain_key}' not found in domains dictionary.\")\n",
    "\n",
    "    uniprot_seq = domains_dict[domain_key]\n",
    "\n",
    "    os.makedirs(output_dir, exist_ok=True)\n",
    "    yaml_path = os.path.join(output_dir, f\"{uniprot_code}-{uniprot_code2}_{domain_key}.yaml\")\n",
    "\n",
    "    yaml_content = f\"\"\"\n",
    "version: 1  # Optional, defaults to 1\n",
    "sequences:\n",
    "  - protein:\n",
    "      id: [M]\n",
    "      sequence: {uniprot_seq}\n",
    "  - protein:\n",
    "      id: [N]\n",
    "      sequence: {uniprot_seq2}\n",
    "constraints:\n",
    "  - pocket:\n",
    "      binder: M\n",
    "      contacts: [ [ N, 389 ], [ N, 390 ], [ N, 391 ], [ N, 392 ], [ N, 393 ], [ N, 394 ], [ N, 395 ], [ N, 396 ], [ N, 397 ], [ N, 398 ], [ N, 399 ], [ N, 400 ], [ N, 401 ], [ N, 402 ], [ N, 403 ], [ N, 404 ] ]\n",
    "# binding residues are 389 to 404 in NSD3S\n",
    "\"\"\".strip()\n",
    "\n",
    "    with open(yaml_path, \"w\") as yam_file:\n",
    "        yam_file.write(yaml_content)\n",
    "\n",
    "    print(f\"✅ YAML written: {yaml_path}\")\n",
    "    return yaml_path\n",
    "\n"
   ]
  },
  {
   "cell_type": "code",
   "execution_count": 16,
   "id": "c07b1466-a5b6-4607-85f7-37c2901d96df",
   "metadata": {},
   "outputs": [
    {
     "name": "stdout",
     "output_type": "stream",
     "text": [
      "✅ YAML written: ../run/P01106-Q9BZ95_MBII.yaml\n",
      "✅ YAML written: ../run/P01106-Q9BZ95_MBIII.yaml\n",
      "✅ YAML written: ../run/P01106-Q9BZ95_MBIIyIII.yaml\n"
     ]
    }
   ],
   "source": [
    "for domain in domains:\n",
    "    write_yaml(\n",
    "        uniprot_code, \n",
    "        uniprot_code2,\n",
    "        uniprot_seq2,\n",
    "        domain_key=domain,\n",
    "        domains_dict=domains,\n",
    "    )"
   ]
  },
  {
   "cell_type": "code",
   "execution_count": 5,
   "id": "f6c28fb5-39ba-4ba6-b38d-8b78b0f53c45",
   "metadata": {},
   "outputs": [
    {
     "name": "stdout",
     "output_type": "stream",
     "text": [
      "\n",
      "conda activate boltz2\n",
      "boltz predict P01106-Q9BZ95.yaml --use_msa_server --accelerator cpu --output_format pdb --override --diffusion_samples 1000\n",
      "\n",
      "mkdir MYC_NSD3S && cd MYC_NSD3S\n",
      "cp ../boltz_results_P01106-Q9BZ95/predictions/P01106-Q9BZ95/P01106-Q9BZ95_model_0.pdb P01106-Q9BZ95.pdb\n",
      "pymol P01106-Q9BZ95.pdb\n",
      "\n",
      "\n",
      "\n",
      "\n"
     ]
    }
   ],
   "source": [
    "## in terminal from run/ folder\n",
    "## Esto lo automatizare para generar un archivo bash, solo hay que sacar la verificación de la carga del ligando\n",
    "print(\"\"\"\n",
    "conda activate boltz2\n",
    "boltz predict {0}-{1}.yaml --use_msa_server --accelerator cpu --output_format pdb --override --diffusion_samples 1000\n",
    "\n",
    "mkdir MYC_NSD3S && cd MYC_NSD3S\n",
    "cp ../boltz_results_{0}-{1}/predictions/{0}-{1}/{0}-{1}_model_0.pdb {0}-{1}.pdb\n",
    "pymol {0}-{1}.pdb\n",
    "\n",
    "\n",
    "\n",
    "\"\"\".format(\n",
    "    uniprot_code, uniprot_code2\n",
    "))"
   ]
  },
  {
   "cell_type": "code",
   "execution_count": null,
   "id": "c5a83ab7-0d57-4377-a828-afd373e96fe1",
   "metadata": {},
   "outputs": [],
   "source": []
  }
 ],
 "metadata": {
  "kernelspec": {
   "display_name": "Python 3 (ipykernel)",
   "language": "python",
   "name": "python3"
  },
  "language_info": {
   "codemirror_mode": {
    "name": "ipython",
    "version": 3
   },
   "file_extension": ".py",
   "mimetype": "text/x-python",
   "name": "python",
   "nbconvert_exporter": "python",
   "pygments_lexer": "ipython3",
   "version": "3.11.5"
  }
 },
 "nbformat": 4,
 "nbformat_minor": 5
}
